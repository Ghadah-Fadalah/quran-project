{
  "nbformat": 4,
  "nbformat_minor": 0,
  "metadata": {
    "colab": {
      "provenance": []
    },
    "kernelspec": {
      "name": "python3",
      "display_name": "Python 3"
    },
    "language_info": {
      "name": "python"
    }
  },
  "cells": [
    {
      "cell_type": "code",
      "execution_count": null,
      "metadata": {
        "colab": {
          "base_uri": "https://localhost:8080/"
        },
        "id": "TYEqet6gT2UY",
        "outputId": "d659cab5-49a9-4a70-845f-a00167faed85"
      },
      "outputs": [
        {
          "output_type": "stream",
          "name": "stdout",
          "text": [
            "Drive already mounted at /content/drive/; to attempt to forcibly remount, call drive.mount(\"/content/drive/\", force_remount=True).\n"
          ]
        }
      ],
      "source": [
        "     import os\n",
        "from google.colab import drive\n",
        "drive.mount('/content/drive/')\n",
        "cwd=\"/content/drive/My Drive/\"\n",
        "os.chdir(cwd)"
      ]
    },
    {
      "cell_type": "code",
      "source": [
        "! unzip quran-text.zip"
      ],
      "metadata": {
        "colab": {
          "base_uri": "https://localhost:8080/"
        },
        "id": "FVeprGMUlW9x",
        "outputId": "d7dee7f1-9858-4202-b211-7e4cf500cb8a"
      },
      "execution_count": null,
      "outputs": [
        {
          "output_type": "stream",
          "name": "stdout",
          "text": [
            "Archive:  quran-text.zip\n",
            "   creating: Tanzil.info-13-txt-files/\n",
            "  inflating: Tanzil.info-13-txt-files/_quran-simple-clean-With-Ayah-Numbers.txt.txt  \n",
            "  inflating: Tanzil.info-13-txt-files/_quran-simple-clean.txt  \n",
            "  inflating: Tanzil.info-13-txt-files/_quran-simple-enhanced-With-Ayah-Numbers.txt.txt  \n",
            "  inflating: Tanzil.info-13-txt-files/_quran-simple-enhanced.txt  \n",
            "  inflating: Tanzil.info-13-txt-files/_quran-simple-min-With-Ayah-Numbers.txt.txt  \n",
            "  inflating: Tanzil.info-13-txt-files/_quran-simple-min.txt  \n",
            "  inflating: Tanzil.info-13-txt-files/_quran-simple-With-Ayah-Numbers.txt  \n",
            "  inflating: Tanzil.info-13-txt-files/_quran-simple.txt  \n",
            "  inflating: Tanzil.info-13-txt-files/_quran-uthmani-A.txt  \n",
            "  inflating: Tanzil.info-13-txt-files/_quran-uthmani-B.txt  \n",
            "  inflating: Tanzil.info-13-txt-files/_quran-uthmani-min-With-Ayah-Numbers.txt.txt  \n",
            "  inflating: Tanzil.info-13-txt-files/_quran-uthmani-min.txt  \n",
            "  inflating: Tanzil.info-13-txt-files/_quran-uthmani-With-Ayah-Numbers.txt.txt  \n"
          ]
        }
      ]
    },
    {
      "cell_type": "code",
      "source": [
        "import os\n",
        "file_path=os.path.join(\"/content/_quran-simple-clean-With-Ayah-Numbers.txt.txt\", \"quran.txt\" )"
      ],
      "metadata": {
        "id": "ewU2eZDqnt61"
      },
      "execution_count": null,
      "outputs": []
    },
    {
      "cell_type": "code",
      "source": [
        "file_path"
      ],
      "metadata": {
        "colab": {
          "base_uri": "https://localhost:8080/",
          "height": 36
        },
        "id": "InN9m2iKoP3B",
        "outputId": "c0db47b9-e3f0-49cc-fd2b-70951b58bebb"
      },
      "execution_count": null,
      "outputs": [
        {
          "output_type": "execute_result",
          "data": {
            "text/plain": [
              "'/content/_quran-simple-clean-With-Ayah-Numbers.txt.txt/quran.txt'"
            ],
            "application/vnd.google.colaboratory.intrinsic+json": {
              "type": "string"
            }
          },
          "metadata": {},
          "execution_count": 7
        }
      ]
    },
    {
      "cell_type": "code",
      "source": [
        "fopen=open(\"/content/_quran-simple-clean-With-Ayah-Numbers.txt.txt\")\n",
        "lines=fopen.readlines()\n",
        "fopen.close()"
      ],
      "metadata": {
        "id": "Fhv6PX6eoly0"
      },
      "execution_count": null,
      "outputs": []
    },
    {
      "cell_type": "code",
      "source": [
        "new_lines=[]\n",
        "for li in lines:\n",
        "  li=li.strip(\"\\n\")\n",
        "  li_split=li.split(\"|\")\n",
        "  if len(li_split)!=3: continue\n",
        "  new_lines.append(li_split)\n"
      ],
      "metadata": {
        "id": "5ZeZLL3_q9rd"
      },
      "execution_count": null,
      "outputs": []
    },
    {
      "cell_type": "code",
      "source": [
        "new_lines[100]"
      ],
      "metadata": {
        "colab": {
          "base_uri": "https://localhost:8080/"
        },
        "id": "mrZQYlcTptnD",
        "outputId": "1d8c26f9-3107-40d9-9352-38269be31fea"
      },
      "execution_count": null,
      "outputs": [
        {
          "output_type": "execute_result",
          "data": {
            "text/plain": [
              "['2',\n",
              " '94',\n",
              " 'قل إن كانت لكم الدار الآخرة عند الله خالصة من دون الناس فتمنوا الموت إن كنتم صادقين']"
            ]
          },
          "metadata": {},
          "execution_count": 10
        }
      ]
    },
    {
      "cell_type": "code",
      "source": [
        "len(new_lines)"
      ],
      "metadata": {
        "colab": {
          "base_uri": "https://localhost:8080/"
        },
        "id": "kcT-qMpirBAl",
        "outputId": "392c2728-ee8a-49da-d86f-028b1699b3a7"
      },
      "execution_count": null,
      "outputs": [
        {
          "output_type": "execute_result",
          "data": {
            "text/plain": [
              "6236"
            ]
          },
          "metadata": {},
          "execution_count": 11
        }
      ]
    },
    {
      "cell_type": "code",
      "source": [
        "sorted_lines=sorted(new_lines,key= lambda x : -len(x[2]))"
      ],
      "metadata": {
        "id": "AcdI5JSernmU"
      },
      "execution_count": null,
      "outputs": []
    },
    {
      "cell_type": "code",
      "source": [
        "sorted_lines[0]"
      ],
      "metadata": {
        "colab": {
          "base_uri": "https://localhost:8080/"
        },
        "id": "q25ZAjvMrpK6",
        "outputId": "0d245931-9b18-4349-9076-e9e291814a9c"
      },
      "execution_count": null,
      "outputs": [
        {
          "output_type": "execute_result",
          "data": {
            "text/plain": [
              "['2',\n",
              " '282',\n",
              " 'يا أيها الذين آمنوا إذا تداينتم بدين إلى أجل مسمى فاكتبوه وليكتب بينكم كاتب بالعدل ولا يأب كاتب أن يكتب كما علمه الله فليكتب وليملل الذي عليه الحق وليتق الله ربه ولا يبخس منه شيئا فإن كان الذي عليه الحق سفيها أو ضعيفا أو لا يستطيع أن يمل هو فليملل وليه بالعدل واستشهدوا شهيدين من رجالكم فإن لم يكونا رجلين فرجل وامرأتان ممن ترضون من الشهداء أن تضل إحداهما فتذكر إحداهما الأخرى ولا يأب الشهداء إذا ما دعوا ولا تسأموا أن تكتبوه صغيرا أو كبيرا إلى أجله ذلكم أقسط عند الله وأقوم للشهادة وأدنى ألا ترتابوا إلا أن تكون تجارة حاضرة تديرونها بينكم فليس عليكم جناح ألا تكتبوها وأشهدوا إذا تبايعتم ولا يضار كاتب ولا شهيد وإن تفعلوا فإنه فسوق بكم واتقوا الله ويعلمكم الله والله بكل شيء عليم']"
            ]
          },
          "metadata": {},
          "execution_count": 13
        }
      ]
    },
    {
      "cell_type": "code",
      "source": [
        "for item in sorted_lines [:10] :\n",
        "  print(item)"
      ],
      "metadata": {
        "colab": {
          "base_uri": "https://localhost:8080/"
        },
        "id": "GuZU83A3rpT4",
        "outputId": "52dae1cc-b4bb-4587-ceb0-f9f689b2c3ef"
      },
      "execution_count": null,
      "outputs": [
        {
          "output_type": "stream",
          "name": "stdout",
          "text": [
            "['2', '282', 'يا أيها الذين آمنوا إذا تداينتم بدين إلى أجل مسمى فاكتبوه وليكتب بينكم كاتب بالعدل ولا يأب كاتب أن يكتب كما علمه الله فليكتب وليملل الذي عليه الحق وليتق الله ربه ولا يبخس منه شيئا فإن كان الذي عليه الحق سفيها أو ضعيفا أو لا يستطيع أن يمل هو فليملل وليه بالعدل واستشهدوا شهيدين من رجالكم فإن لم يكونا رجلين فرجل وامرأتان ممن ترضون من الشهداء أن تضل إحداهما فتذكر إحداهما الأخرى ولا يأب الشهداء إذا ما دعوا ولا تسأموا أن تكتبوه صغيرا أو كبيرا إلى أجله ذلكم أقسط عند الله وأقوم للشهادة وأدنى ألا ترتابوا إلا أن تكون تجارة حاضرة تديرونها بينكم فليس عليكم جناح ألا تكتبوها وأشهدوا إذا تبايعتم ولا يضار كاتب ولا شهيد وإن تفعلوا فإنه فسوق بكم واتقوا الله ويعلمكم الله والله بكل شيء عليم']\n",
            "['24', '31', 'وقل للمؤمنات يغضضن من أبصارهن ويحفظن فروجهن ولا يبدين زينتهن إلا ما ظهر منها وليضربن بخمرهن على جيوبهن ولا يبدين زينتهن إلا لبعولتهن أو آبائهن أو آباء بعولتهن أو أبنائهن أو أبناء بعولتهن أو إخوانهن أو بني إخوانهن أو بني أخواتهن أو نسائهن أو ما ملكت أيمانهن أو التابعين غير أولي الإربة من الرجال أو الطفل الذين لم يظهروا على عورات النساء ولا يضربن بأرجلهن ليعلم ما يخفين من زينتهن وتوبوا إلى الله جميعا أيه المؤمنون لعلكم تفلحون']\n",
            "['73', '20', 'إن ربك يعلم أنك تقوم أدنى من ثلثي الليل ونصفه وثلثه وطائفة من الذين معك والله يقدر الليل والنهار علم أن لن تحصوه فتاب عليكم فاقرءوا ما تيسر من القرآن علم أن سيكون منكم مرضى وآخرون يضربون في الأرض يبتغون من فضل الله وآخرون يقاتلون في سبيل الله فاقرءوا ما تيسر منه وأقيموا الصلاة وآتوا الزكاة وأقرضوا الله قرضا حسنا وما تقدموا لأنفسكم من خير تجدوه عند الله هو خيرا وأعظم أجرا واستغفروا الله إن الله غفور رحيم']\n",
            "['24', '61', 'ليس على الأعمى حرج ولا على الأعرج حرج ولا على المريض حرج ولا على أنفسكم أن تأكلوا من بيوتكم أو بيوت آبائكم أو بيوت أمهاتكم أو بيوت إخوانكم أو بيوت أخواتكم أو بيوت أعمامكم أو بيوت عماتكم أو بيوت أخوالكم أو بيوت خالاتكم أو ما ملكتم مفاتحه أو صديقكم ليس عليكم جناح أن تأكلوا جميعا أو أشتاتا فإذا دخلتم بيوتا فسلموا على أنفسكم تحية من عند الله مباركة طيبة كذلك يبين الله لكم الآيات لعلكم تعقلون']\n",
            "['4', '12', 'ولكم نصف ما ترك أزواجكم إن لم يكن لهن ولد فإن كان لهن ولد فلكم الربع مما تركن من بعد وصية يوصين بها أو دين ولهن الربع مما تركتم إن لم يكن لكم ولد فإن كان لكم ولد فلهن الثمن مما تركتم من بعد وصية توصون بها أو دين وإن كان رجل يورث كلالة أو امرأة وله أخ أو أخت فلكل واحد منهما السدس فإن كانوا أكثر من ذلك فهم شركاء في الثلث من بعد وصية يوصى بها أو دين غير مضار وصية من الله والله عليم حليم']\n",
            "['2', '102', 'واتبعوا ما تتلو الشياطين على ملك سليمان وما كفر سليمان ولكن الشياطين كفروا يعلمون الناس السحر وما أنزل على الملكين ببابل هاروت وماروت وما يعلمان من أحد حتى يقولا إنما نحن فتنة فلا تكفر فيتعلمون منهما ما يفرقون به بين المرء وزوجه وما هم بضارين به من أحد إلا بإذن الله ويتعلمون ما يضرهم ولا ينفعهم ولقد علموا لمن اشتراه ما له في الآخرة من خلاق ولبئس ما شروا به أنفسهم لو كانوا يعلمون']\n",
            "['3', '154', 'ثم أنزل عليكم من بعد الغم أمنة نعاسا يغشى طائفة منكم وطائفة قد أهمتهم أنفسهم يظنون بالله غير الحق ظن الجاهلية يقولون هل لنا من الأمر من شيء قل إن الأمر كله لله يخفون في أنفسهم ما لا يبدون لك يقولون لو كان لنا من الأمر شيء ما قتلنا هاهنا قل لو كنتم في بيوتكم لبرز الذين كتب عليهم القتل إلى مضاجعهم وليبتلي الله ما في صدوركم وليمحص ما في قلوبكم والله عليم بذات الصدور']\n",
            "['33', '53', 'يا أيها الذين آمنوا لا تدخلوا بيوت النبي إلا أن يؤذن لكم إلى طعام غير ناظرين إناه ولكن إذا دعيتم فادخلوا فإذا طعمتم فانتشروا ولا مستأنسين لحديث إن ذلكم كان يؤذي النبي فيستحيي منكم والله لا يستحيي من الحق وإذا سألتموهن متاعا فاسألوهن من وراء حجاب ذلكم أطهر لقلوبكم وقلوبهن وما كان لكم أن تؤذوا رسول الله ولا أن تنكحوا أزواجه من بعده أبدا إن ذلكم كان عند الله عظيما']\n",
            "['2', '196', 'وأتموا الحج والعمرة لله فإن أحصرتم فما استيسر من الهدي ولا تحلقوا رءوسكم حتى يبلغ الهدي محله فمن كان منكم مريضا أو به أذى من رأسه ففدية من صيام أو صدقة أو نسك فإذا أمنتم فمن تمتع بالعمرة إلى الحج فما استيسر من الهدي فمن لم يجد فصيام ثلاثة أيام في الحج وسبعة إذا رجعتم تلك عشرة كاملة ذلك لمن لم يكن أهله حاضري المسجد الحرام واتقوا الله واعلموا أن الله شديد العقاب']\n",
            "['2', '233', 'والوالدات يرضعن أولادهن حولين كاملين لمن أراد أن يتم الرضاعة وعلى المولود له رزقهن وكسوتهن بالمعروف لا تكلف نفس إلا وسعها لا تضار والدة بولدها ولا مولود له بولده وعلى الوارث مثل ذلك فإن أرادا فصالا عن تراض منهما وتشاور فلا جناح عليهما وإن أردتم أن تسترضعوا أولادكم فلا جناح عليكم إذا سلمتم ما آتيتم بالمعروف واتقوا الله واعلموا أن الله بما تعملون بصير']\n"
          ]
        }
      ]
    },
    {
      "cell_type": "code",
      "source": [
        "all_quran_words = []\n",
        "for item in new_lines :\n",
        "  aya_text=item[2]\n",
        "  words=aya_text.split()\n",
        "  all_quran_words.extend(words)\n",
        "len(all_quran_words)"
      ],
      "metadata": {
        "colab": {
          "base_uri": "https://localhost:8080/"
        },
        "id": "8c894kzw7yJX",
        "outputId": "727ae73a-fcec-4446-bf33-5b6773c77e40"
      },
      "execution_count": null,
      "outputs": [
        {
          "output_type": "execute_result",
          "data": {
            "text/plain": [
              "78245"
            ]
          },
          "metadata": {},
          "execution_count": 15
        }
      ]
    },
    {
      "cell_type": "code",
      "source": [
        "unique_quran_words=list(set(all_quran_words))\n",
        "len(unique_quran_words)"
      ],
      "metadata": {
        "colab": {
          "base_uri": "https://localhost:8080/"
        },
        "id": "CBabqOT5DQUN",
        "outputId": "b2dde7b9-1014-43d0-f944-849c3f405ef9"
      },
      "execution_count": null,
      "outputs": [
        {
          "output_type": "execute_result",
          "data": {
            "text/plain": [
              "14870"
            ]
          },
          "metadata": {},
          "execution_count": 16
        }
      ]
    },
    {
      "cell_type": "code",
      "source": [
        "all_quran_words_sorted_by_length=sorted(unique_quran_words,key= lambda x : len(x), reverse=True)\n",
        "for w in all_quran_words_sorted_by_length[:10]:\n",
        "  print(w,len(w))"
      ],
      "metadata": {
        "colab": {
          "base_uri": "https://localhost:8080/"
        },
        "id": "1jss6MuhD0gU",
        "outputId": "de6d1604-beb9-43e0-9f8a-2fcbf9745468"
      },
      "execution_count": null,
      "outputs": [
        {
          "output_type": "stream",
          "name": "stdout",
          "text": [
            "فأسقيناكموه 11\n",
            "والمستغفرين 11\n",
            "والمستضعفين 11\n",
            "ليستخلفنهم 10\n",
            "والمتصدقين 10\n",
            "والمتصدقات 10\n",
            "المستهزئين 10\n",
            "ويستغفرونه 10\n",
            "وبالوالدين 10\n",
            "واستيقنتها 10\n"
          ]
        }
      ]
    },
    {
      "cell_type": "code",
      "source": [
        "words_with_jeem=[w for w in all_quran_words_sorted_by_length if w.startswith(\"ج\")]\n",
        "words_with_jeem[:6]"
      ],
      "metadata": {
        "colab": {
          "base_uri": "https://localhost:8080/"
        },
        "id": "2pGiopv5FsOG",
        "outputId": "bf1792de-42b8-4e7a-836a-3c308729ba90"
      },
      "execution_count": null,
      "outputs": [
        {
          "output_type": "execute_result",
          "data": {
            "text/plain": [
              "['جلابيبهن', 'جعلناهم', 'جمعناكم', 'جزيناهم', 'جعلناها', 'جئتمونا']"
            ]
          },
          "metadata": {},
          "execution_count": 18
        }
      ]
    },
    {
      "cell_type": "code",
      "source": [
        "all_quran_words.count(\"الله\")"
      ],
      "metadata": {
        "colab": {
          "base_uri": "https://localhost:8080/"
        },
        "id": "_i9nsctOMuEM",
        "outputId": "1d88548a-11cc-43ef-9d3a-66fd234b4a3b"
      },
      "execution_count": null,
      "outputs": [
        {
          "output_type": "execute_result",
          "data": {
            "text/plain": [
              "2265"
            ]
          },
          "metadata": {},
          "execution_count": 19
        }
      ]
    },
    {
      "cell_type": "code",
      "source": [
        "most_freq_word=\"\"\n",
        "for word in unique_quran_words :\n",
        "  if all_quran_words.count(word)>all_quran_words.count(most_freq_word) :\n",
        "    most_freq_word=word\n",
        "print(most_freq_word,all_quran_words.count(most_freq_word))"
      ],
      "metadata": {
        "colab": {
          "base_uri": "https://localhost:8080/"
        },
        "id": "-jP5gh52Idma",
        "outputId": "e66d3a8d-654e-4c9c-be9b-de601432da60"
      },
      "execution_count": null,
      "outputs": [
        {
          "output_type": "stream",
          "name": "stdout",
          "text": [
            "من 2763\n"
          ]
        }
      ]
    },
    {
      "cell_type": "code",
      "source": [
        "from collections import Counter\n",
        "count_dict=Counter(all_quran_words)"
      ],
      "metadata": {
        "id": "5tVW4s9yM1g0"
      },
      "execution_count": null,
      "outputs": []
    },
    {
      "cell_type": "code",
      "source": [
        "def most_n_common_words (n):\n",
        " return  count_dict.most_common(n)"
      ],
      "metadata": {
        "id": "ygSp7e7vNPxj"
      },
      "execution_count": null,
      "outputs": []
    },
    {
      "cell_type": "code",
      "source": [
        "most_n_common_words(10)"
      ],
      "metadata": {
        "colab": {
          "base_uri": "https://localhost:8080/"
        },
        "id": "kJCvTBblOVIt",
        "outputId": "67b716d1-8207-43cd-b523-c9baff01d778"
      },
      "execution_count": null,
      "outputs": [
        {
          "output_type": "execute_result",
          "data": {
            "text/plain": [
              "[('من', 2763),\n",
              " ('الله', 2265),\n",
              " ('في', 1185),\n",
              " ('ما', 1010),\n",
              " ('إن', 966),\n",
              " ('لا', 812),\n",
              " ('الذين', 810),\n",
              " ('على', 670),\n",
              " ('إلا', 664),\n",
              " ('ولا', 658)]"
            ]
          },
          "metadata": {},
          "execution_count": 23
        }
      ]
    },
    {
      "cell_type": "code",
      "source": [
        "list_words_counts=list(count_dict.items())\n",
        "ten_letters_words= [w for w in  list_words_counts if len(w[0]) == 10]\n",
        "ten_letters_words.sort(key=lambda x: -x[1])\n",
        "ten_letters_words"
      ],
      "metadata": {
        "colab": {
          "base_uri": "https://localhost:8080/"
        },
        "id": "nL-20To0YJzU",
        "outputId": "429812c3-4597-46ae-c834-94af15b6a2d3"
      },
      "execution_count": null,
      "outputs": [
        {
          "output_type": "execute_result",
          "data": {
            "text/plain": [
              "[('والمنافقات', 5),\n",
              " ('وبالوالدين', 4),\n",
              " ('والمنافقين', 4),\n",
              " ('والمهاجرين', 3),\n",
              " ('ويستعجلونك', 3),\n",
              " ('فليستجيبوا', 2),\n",
              " ('والمؤتفكات', 2),\n",
              " ('والمجاهدون', 1),\n",
              " ('المستضعفين', 1),\n",
              " ('والربانيون', 1),\n",
              " ('ولأدخلناهم', 1),\n",
              " ('ويستغفرونه', 1),\n",
              " ('واجتبيناهم', 1),\n",
              " ('أتجادلونني', 1),\n",
              " ('واسترهبوهم', 1),\n",
              " ('فسينفقونها', 1),\n",
              " ('وبالمؤمنين', 1),\n",
              " ('اقترفتموها', 1),\n",
              " ('ويستنبئونك', 1),\n",
              " ('أنلزمكموها', 1),\n",
              " ('المستقدمين', 1),\n",
              " ('المستأخرين', 1),\n",
              " ('المستهزئين', 1),\n",
              " ('المستكبرين', 1),\n",
              " ('اعتزلتموهم', 1),\n",
              " ('فاتخذتموهم', 1),\n",
              " ('ليستخلفنهم', 1),\n",
              " ('فليستأذنوا', 1),\n",
              " ('واستيقنتها', 1),\n",
              " ('والمتصدقين', 1),\n",
              " ('والمتصدقات', 1),\n",
              " ('المتنافسون', 1)]"
            ]
          },
          "metadata": {},
          "execution_count": 24
        }
      ]
    },
    {
      "cell_type": "code",
      "source": [
        "jeem_words=[w for w in list_words_counts if w[0].startswith(\"ج\")]\n",
        "jeem_words.sort(key= lambda x : -x[1])\n",
        "jeem_words"
      ],
      "metadata": {
        "colab": {
          "base_uri": "https://localhost:8080/"
        },
        "id": "oAM5E_8hcguU",
        "outputId": "4b73be46-5389-431e-df0d-f46772cd4193"
      },
      "execution_count": null,
      "outputs": [
        {
          "output_type": "execute_result",
          "data": {
            "text/plain": [
              "[('جهنم', 72),\n",
              " ('جنات', 62),\n",
              " ('جاء', 57),\n",
              " ('جميعا', 49),\n",
              " ('جعل', 45),\n",
              " ('جاءهم', 41),\n",
              " ('جزاء', 29),\n",
              " ('جعلنا', 29),\n",
              " ('جناح', 26),\n",
              " ('جاءكم', 25),\n",
              " ('جاءتهم', 18),\n",
              " ('جنة', 18),\n",
              " ('جاءك', 11),\n",
              " ('جاءت', 10),\n",
              " ('جاءه', 7),\n",
              " ('جعلناه', 7),\n",
              " ('جئت', 6),\n",
              " ('جاءوا', 6),\n",
              " ('جاءنا', 6),\n",
              " ('جعلكم', 6),\n",
              " ('جديد', 6),\n",
              " ('جاءتكم', 5),\n",
              " ('جزاؤهم', 5),\n",
              " ('جعله', 5),\n",
              " ('جاهدوا', 5),\n",
              " ('جاءوك', 5),\n",
              " ('جهد', 5),\n",
              " ('جاثمين', 5),\n",
              " ('جرم', 5),\n",
              " ('جانب', 5),\n",
              " ('جان', 5),\n",
              " ('جند', 5),\n",
              " ('جئتكم', 4),\n",
              " ('جئنا', 4),\n",
              " ('جواب', 4),\n",
              " ('جسدا', 4),\n",
              " ('جناحك', 4),\n",
              " ('جنود', 4),\n",
              " ('جميلا', 4),\n",
              " ('جهرة', 3),\n",
              " ('جبل', 3),\n",
              " ('جامع', 3),\n",
              " ('جاءوكم', 3),\n",
              " ('جعلناك', 3),\n",
              " ('جاهد', 3),\n",
              " ('جبار', 3),\n",
              " ('جزاؤه', 3),\n",
              " ('جعلوا', 3),\n",
              " ('جئناك', 3),\n",
              " ('جمعا', 3),\n",
              " ('جبارا', 3),\n",
              " ('جاءني', 3),\n",
              " ('جعلناها', 3),\n",
              " ('جنتان', 3),\n",
              " ('جميع', 3),\n",
              " ('جاءوها', 3),\n",
              " ('جاعل', 2),\n",
              " ('جعلناكم', 2),\n",
              " ('جزءا', 2),\n",
              " ('جنوبهم', 2),\n",
              " ('جنبا', 2),\n",
              " ('جلودهم', 2),\n",
              " ('جبارين', 2),\n",
              " ('جئتهم', 2),\n",
              " ('جئتمونا', 2),\n",
              " ('جزيناهم', 2),\n",
              " ('جئتنا', 2),\n",
              " ('جئتم', 2),\n",
              " ('جميل', 2),\n",
              " ('جهزهم', 2),\n",
              " ('جلود', 2),\n",
              " ('جديدا', 2),\n",
              " ('جنتين', 2),\n",
              " ('جنتك', 2),\n",
              " ('جدلا', 2),\n",
              " ('جثيا', 2),\n",
              " ('جعلناهم', 2),\n",
              " ('جلدة', 2),\n",
              " ('جبال', 2),\n",
              " ('جهادا', 2),\n",
              " ('جاءها', 2),\n",
              " ('جيبك', 2),\n",
              " ('جنب', 2),\n",
              " ('جاهداك', 2),\n",
              " ('جحيم', 2),\n",
              " ('جوع', 2),\n",
              " ('جاعلك', 1),\n",
              " ('جنفا', 1),\n",
              " ('جدال', 1),\n",
              " ('جاءته', 1),\n",
              " ('جاوزه', 1),\n",
              " ('جالوت', 1),\n",
              " ('جمعناهم', 1),\n",
              " ('جمعوا', 1),\n",
              " ('جلودا', 1),\n",
              " ('جنوبكم', 1),\n",
              " ('جادلتم', 1),\n",
              " ('جرحتم', 1),\n",
              " ('جن', 1),\n",
              " ('جمعكم', 1),\n",
              " ('جئناهم', 1),\n",
              " ('جاءتنا', 1),\n",
              " ('جعلا', 1),\n",
              " ('جار', 1),\n",
              " ('جنحوا', 1),\n",
              " ('جنودا', 1),\n",
              " ('جباههم', 1),\n",
              " ('جهدهم', 1),\n",
              " ('جرف', 1),\n",
              " ('جاءتها', 1),\n",
              " ('جادلتنا', 1),\n",
              " ('جدالنا', 1),\n",
              " ('جحدوا', 1),\n",
              " ('جاهلون', 1),\n",
              " ('جعلها', 1),\n",
              " ('جهر', 1),\n",
              " ('جفاء', 1),\n",
              " ('جزء', 1),\n",
              " ('جمال', 1),\n",
              " ('جائر', 1),\n",
              " ('جو', 1),\n",
              " ('جعلتم', 1),\n",
              " ('جزاؤكم', 1),\n",
              " ('جرزا', 1),\n",
              " ('جنته', 1),\n",
              " ('جاوزا', 1),\n",
              " ('جدارا', 1),\n",
              " ('جذع', 1),\n",
              " ('جنيا', 1),\n",
              " ('جندا', 1),\n",
              " ('جذوع', 1),\n",
              " ('جذاذا', 1),\n",
              " ('جنوبها', 1),\n",
              " ('جادلوك', 1),\n",
              " ('جهاده', 1),\n",
              " ('جزيتهم', 1),\n",
              " ('جيوبهن', 1),\n",
              " ('جملة', 1),\n",
              " ('جئتك', 1),\n",
              " ('جنوده', 1),\n",
              " ('جامدة', 1),\n",
              " ('جذوة', 1),\n",
              " ('جاز', 1),\n",
              " ('جوفه', 1),\n",
              " ('جلابيبهن', 1),\n",
              " ('جهولا', 1),\n",
              " ('جدد', 1),\n",
              " ('جبلا', 1),\n",
              " ('جندنا', 1),\n",
              " ('جاءتك', 1),\n",
              " ('جلودكم', 1),\n",
              " ('جمعهم', 1),\n",
              " ('جئناكم', 1),\n",
              " ('جاثية', 1),\n",
              " ('جعلته', 1),\n",
              " ('جراد', 1),\n",
              " ('جدر', 1),\n",
              " ('جزوعا', 1),\n",
              " ('جهارا', 1),\n",
              " ('جد', 1),\n",
              " ('جمعه', 1),\n",
              " ('جمالت', 1),\n",
              " ('جمعناكم', 1),\n",
              " ('جارية', 1),\n",
              " ('جابوا', 1),\n",
              " ('جما', 1),\n",
              " ('جنتي', 1),\n",
              " ('جلاها', 1),\n",
              " ('جمع', 1),\n",
              " ('جيدها', 1)]"
            ]
          },
          "metadata": {},
          "execution_count": 25
        }
      ]
    },
    {
      "cell_type": "code",
      "source": [
        "jeem_ending_words=[w for w in list_words_counts if w[0].endswith(\"ج\")]\n",
        "jeem_ending_words.sort(key= lambda x : -x[1])\n",
        "jeem_ending_words"
      ],
      "metadata": {
        "colab": {
          "base_uri": "https://localhost:8080/"
        },
        "id": "r5SNCa5Yd66h",
        "outputId": "151a7812-ee9e-4dde-c257-cc667caa7ddd"
      },
      "execution_count": null,
      "outputs": [
        {
          "output_type": "execute_result",
          "data": {
            "text/plain": [
              "[('يخرج', 17),\n",
              " ('حرج', 13),\n",
              " ('أخرج', 10),\n",
              " ('تخرج', 9),\n",
              " ('أزواج', 7),\n",
              " ('الحج', 7),\n",
              " ('زوج', 6),\n",
              " ('فاخرج', 4),\n",
              " ('موج', 4),\n",
              " ('يولج', 4),\n",
              " ('ويولج', 4),\n",
              " ('فأخرج', 3),\n",
              " ('مخرج', 3),\n",
              " ('يلج', 3),\n",
              " ('الخروج', 3),\n",
              " ('ويخرج', 3),\n",
              " ('فخرج', 3),\n",
              " ('يعرج', 3),\n",
              " ('حج', 2),\n",
              " ('وتخرج', 2),\n",
              " ('نخرج', 2),\n",
              " ('اخرج', 2),\n",
              " ('الموج', 2),\n",
              " ('يأجوج', 2),\n",
              " ('ومأجوج', 2),\n",
              " ('عوج', 2),\n",
              " ('بهيج', 2),\n",
              " ('الأعرج', 2),\n",
              " ('مرج', 2),\n",
              " ('أجاج', 2),\n",
              " ('الأزواج', 2),\n",
              " ('فوج', 2),\n",
              " ('يهيج', 2),\n",
              " ('فيخرج', 1),\n",
              " ('والحج', 1),\n",
              " ('وإخراج', 1),\n",
              " ('إخراج', 1),\n",
              " ('حاج', 1),\n",
              " ('وأزواج', 1),\n",
              " ('تولج', 1),\n",
              " ('وتولج', 1),\n",
              " ('بروج', 1),\n",
              " ('ومخرج', 1),\n",
              " ('بخارج', 1),\n",
              " ('بإخراج', 1),\n",
              " ('الحاج', 1),\n",
              " ('للخروج', 1),\n",
              " ('ننج', 1),\n",
              " ('ناج', 1),\n",
              " ('لتخرج', 1),\n",
              " ('ونخرج', 1),\n",
              " ('يموج', 1),\n",
              " ('بالحج', 1),\n",
              " ('فج', 1),\n",
              " ('فخراج', 1),\n",
              " ('حجج', 1),\n",
              " ('فنخرج', 1),\n",
              " ('تبرج', 1),\n",
              " ('خروج', 1),\n",
              " ('ومعارج', 1),\n",
              " ('مريج', 1),\n",
              " ('فروج', 1),\n",
              " ('مارج', 1),\n",
              " ('ليخرج', 1),\n",
              " ('المعارج', 1),\n",
              " ('تعرج', 1),\n",
              " ('أمشاج', 1),\n",
              " ('لنخرج', 1),\n",
              " ('وأخرج', 1),\n",
              " ('البروج', 1)]"
            ]
          },
          "metadata": {},
          "execution_count": 26
        }
      ]
    }
  ]
}